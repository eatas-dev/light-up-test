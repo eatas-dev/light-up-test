{
 "cells": [
  {
   "cell_type": "markdown",
   "metadata": {},
   "source": [
    "# 必須ライブラリのインストール（以下、DataFactoryでコピーしたデータに対して行う作業であり、Functionsを実装する前に検証で行っていた手順。今はFunctionsで同内容を実行するため実施不要）"
   ]
  },
  {
   "cell_type": "code",
   "execution_count": null,
   "metadata": {},
   "outputs": [],
   "source": [
    "%pip install --upgrade pip\n",
    "%pip install -r requirements.txt"
   ]
  },
  {
   "cell_type": "markdown",
   "metadata": {},
   "source": [
    "## libraryのインポート"
   ]
  },
  {
   "cell_type": "code",
   "execution_count": null,
   "metadata": {},
   "outputs": [],
   "source": [
    "import json\n",
    "import logging\n",
    "\n",
    "from bson import ObjectId\n",
    "from langchain.docstore.document import Document\n",
    "from langchain_community.vectorstores.azure_cosmos_db import (\n",
    "    AzureCosmosDBVectorSearch,\n",
    "    CosmosDBSimilarityType,\n",
    "    CosmosDBVectorSearchType,\n",
    ")\n",
    "from langchain_openai import AzureOpenAIEmbeddings\n",
    "from pymongo import MongoClient\n",
    "from pymongo.collection import Collection\n",
    "\n",
    "\n",
    "class JSONEncoder(json.JSONEncoder):\n",
    "    def default(self, obj):\n",
    "        if isinstance(obj, ObjectId):\n",
    "            return str(obj)\n",
    "        return super().default(obj)"
   ]
  },
  {
   "cell_type": "markdown",
   "metadata": {},
   "source": [
    "## MongoDBのコレクションを取得"
   ]
  },
  {
   "cell_type": "code",
   "execution_count": 3,
   "metadata": {},
   "outputs": [],
   "source": [
    "def get_all_collections(database_name, collection_name, connection_string):\n",
    "    # MongoDBクライアントを作成\n",
    "    mongo_client = MongoClient(connection_string)\n",
    "\n",
    "    # 指定されたデータベースとコレクションを取得\n",
    "    db = mongo_client[database_name]\n",
    "    collection = db[collection_name]\n",
    "\n",
    "    # コレクション内のすべてのドキュメントを取得して表示\n",
    "    documents = collection.find()\n",
    "    print(f\"Contents of {collection_name} in {database_name}:\")\n",
    "    for doc in documents:\n",
    "        print(doc)"
   ]
  },
  {
   "cell_type": "markdown",
   "metadata": {},
   "source": [
    "## 環境変数の設定"
   ]
  },
  {
   "cell_type": "code",
   "execution_count": null,
   "metadata": {},
   "outputs": [],
   "source": [
    "# データベースとコレクションの名前を指定\n",
    "# データベース名とコレクション名は、Azure Cosmos DB リソースの名前と一致する必要があります\n",
    "# 接続文字列は、Azure Cosmos DB リソースの「接続文字列」ページから取得します\n",
    "database_name = \"\"\n",
    "collection_name = \"\"\n",
    "connection_string = \"\"\n"
   ]
  },
  {
   "cell_type": "code",
   "execution_count": null,
   "metadata": {},
   "outputs": [],
   "source": [
    "# コレクションの中身を表示\n",
    "get_all_collections(database_name, collection_name, connection_string)"
   ]
  },
  {
   "cell_type": "markdown",
   "metadata": {},
   "source": [
    "## MongoDBのデータを取得し、埋め込みを生成してAzure Cosmos DBに保存する"
   ]
  },
  {
   "cell_type": "code",
   "execution_count": 6,
   "metadata": {},
   "outputs": [],
   "source": [
    "async def generate_embeddings_and_add_data(\n",
    "    documents: list[Document],\n",
    "    collection: Collection,\n",
    "    index_name: str,\n",
    "    embeddings: AzureOpenAIEmbeddings,\n",
    ") -> AzureCosmosDBVectorSearch:\n",
    "    # データから埋め込みを生成し、データベースに保存してMongoDB vCoreへの接続を返す\n",
    "    return await AzureCosmosDBVectorSearch.afrom_documents(\n",
    "        documents=documents,\n",
    "        embedding=embeddings,\n",
    "        collection=collection,\n",
    "        index_name=index_name,\n",
    "    )"
   ]
  },
  {
   "cell_type": "code",
   "execution_count": null,
   "metadata": {},
   "outputs": [],
   "source": [
    "# OpenAIの埋め込みモデルとデプロイメント名を設定\n",
    "openai_embeddings_model = \"text-embedding-ada-002\"\n",
    "openai_embeddings_deployment = \"text-embedding\"\n",
    "\n",
    "# Azure OpenAIの埋め込みクライアントを初期化\n",
    "azure_openai_embeddings: AzureOpenAIEmbeddings = AzureOpenAIEmbeddings(\n",
    "    model=openai_embeddings_model,\n",
    "    azure_deployment=openai_embeddings_deployment,\n",
    ")"
   ]
  },
  {
   "cell_type": "code",
   "execution_count": null,
   "metadata": {},
   "outputs": [],
   "source": [
    "async def add_data(database_name,collection_name,connection_string) -> None:\n",
    "\n",
    "    # MongoDBクライアントを作成し、指定されたデータベースとコレクションに接続\n",
    "    mongo_client: MongoClient = MongoClient(connection_string)\n",
    "    db = mongo_client[database_name]\n",
    "    collection = db[collection_name]\n",
    "\n",
    "    # コレクション内のすべてのドキュメントを取得し、リストに追加\n",
    "    documents = []\n",
    "    for idx, item in enumerate(collection.find()):\n",
    "        documents.append(\n",
    "            Document(page_content=json.dumps(item), metadata={\"source\": \"mongodb\", \"seq_num\": idx + 1})\n",
    "        )\n",
    "\n",
    "    # ドキュメントに対して埋め込みを生成し、Azure Cosmos DBに保存\n",
    "    vector_store = await generate_embeddings_and_add_data(\n",
    "        documents=documents,\n",
    "        collection=collection,\n",
    "        index_name=\"CosmicIndex\",\n",
    "        embeddings=azure_openai_embeddings,\n",
    "    )\n",
    "\n",
    "    # クエリ条件: metadataキーが存在しないドキュメントを検索\n",
    "    query = {\"metadata\": {\"$exists\": False}}\n",
    "\n",
    "    # 条件に一致するすべてのドキュメントを削除\n",
    "    collection.delete_many(query)\n",
    "\n",
    "    logging.info(\"✨ Successfully Created the Collection, Embeddings and Added the Data the Collection...\")\n",
    "\n",
    "    # れらの変数の詳細については、以下のリンクを参照してください。https://learn.microsoft.com/en-us/azure/cosmos-db/mongodb/vcore/vector-search\n",
    "    num_lists = 100\n",
    "    dimensions = 1536\n",
    "    similarity_algorithm = CosmosDBSimilarityType.COS\n",
    "    kind = CosmosDBVectorSearchType.VECTOR_HNSW\n",
    "    m = 16\n",
    "    ef_construction = 64\n",
    "\n",
    "    # コレクションに対してHNSWインデックスを作成\n",
    "    index_creation = vector_store.create_index(num_lists, dimensions, similarity_algorithm, kind, m, ef_construction)\n",
    "\n",
    "    logging.info(f\"✨ Successfully Created the HNSW Index Over the data...{index_creation}\")\n",
    "    logging.info(\"✅✅ Done! ✅✅\")"
   ]
  },
  {
   "cell_type": "code",
   "execution_count": null,
   "metadata": {},
   "outputs": [],
   "source": [
    "# add_dataの実行\n",
    "await add_data(database_name,collection_name,connection_string)"
   ]
  }
 ],
 "metadata": {
  "kernelspec": {
   "display_name": ".venv",
   "language": "python",
   "name": "python3"
  },
  "language_info": {
   "codemirror_mode": {
    "name": "ipython",
    "version": 3
   },
   "file_extension": ".py",
   "mimetype": "text/x-python",
   "name": "python",
   "nbconvert_exporter": "python",
   "pygments_lexer": "ipython3",
   "version": "3.12.8"
  }
 },
 "nbformat": 4,
 "nbformat_minor": 2
}
